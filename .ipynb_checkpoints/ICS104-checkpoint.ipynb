{
 "cells": [
  {
   "cell_type": "code",
   "execution_count": 2,
   "metadata": {},
   "outputs": [
    {
     "name": "stdout",
     "output_type": "stream",
     "text": [
      "\u001b[1m                                                 Game Recommendation System\n",
      "\u001b[0m                 __________________________________________________________________________________________\n",
      "\n",
      "                                            1. Add new Game information\n",
      "                                            2. Update Game information\n",
      "                                            3. Display information for all Games\n",
      "                                            4. Display specific information\n",
      "                                            5. Save specific data in new files\n",
      "                                            6. Exit\n",
      "                 __________________________________________________________________________________________\n"
     ]
    }
   ],
   "source": [
    "#This function is for the menu displayed to the user at the beginning of the program\n",
    "def menu():\n",
    "    print('\\033[1m' + '%75s'%('Game Recommendation System'))\n",
    "    print('\\033[0m', end=\"\")\n",
    "    print(\" \"* 17 + 90 * \"_\")\n",
    "    print()\n",
    "    print(\"%71s\"%(\"1. Add new Game information\"))\n",
    "    print(\"%70s\"%(\"2. Update Game information\"))\n",
    "    print(\"%80s\"%(\"3. Display information for all Games\"))\n",
    "    print(\"%75s\"%(\"4. Display specific information\"))\n",
    "    print(\"%78s\"%(\"5. Save specific data in new files\"))\n",
    "    print(\"%51s\"%(\"6. Exit\"))\n",
    "    print(\" \"* 17 + 90 * \"_\")\n",
    "menu()\n",
    "\n",
    "\n",
    "\n",
    "\n"
   ]
  }
 ],
 "metadata": {
  "kernelspec": {
   "display_name": "Python 3 (ipykernel)",
   "language": "python",
   "name": "python3"
  },
  "language_info": {
   "codemirror_mode": {
    "name": "ipython",
    "version": 3
   },
   "file_extension": ".py",
   "mimetype": "text/x-python",
   "name": "python",
   "nbconvert_exporter": "python",
   "pygments_lexer": "ipython3",
   "version": "3.9.12"
  },
  "toc": {
   "base_numbering": 1,
   "nav_menu": {},
   "number_sections": true,
   "sideBar": true,
   "skip_h1_title": false,
   "title_cell": "Table of Contents",
   "title_sidebar": "Contents",
   "toc_cell": false,
   "toc_position": {},
   "toc_section_display": true,
   "toc_window_display": false
  },
  "vscode": {
   "interpreter": {
    "hash": "a2f9b07b631b2cf190cbd331599e7e15173a4378cfa54aa5394685cb2780cd2f"
   }
  }
 },
 "nbformat": 4,
 "nbformat_minor": 2
}
